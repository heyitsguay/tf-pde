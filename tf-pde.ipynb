{
 "cells": [
  {
   "cell_type": "code",
   "execution_count": 1,
   "metadata": {
    "collapsed": false
   },
   "outputs": [],
   "source": [
    "import tensorflow as tf\n",
    "import numpy as np\n",
    "\n",
    "import PIL.Image\n",
    "from io import BytesIO\n",
    "from IPython.display import clear_output, Image, display"
   ]
  },
  {
   "cell_type": "code",
   "execution_count": 2,
   "metadata": {
    "collapsed": true
   },
   "outputs": [],
   "source": [
    "def DisplayArray(a, fmt='png', rng=[0,1]):\n",
    "  \"\"\"Display an array as a picture.\"\"\"\n",
    "  a = (a - rng[0])/float(rng[1] - rng[0])*255\n",
    "  a = np.uint8(np.clip(a, 0, 255))\n",
    "  f = BytesIO()\n",
    "  PIL.Image.fromarray(a).save(f, fmt)\n",
    "  clear_output(wait = True)\n",
    "  display(Image(data=f.getvalue()))"
   ]
  },
  {
   "cell_type": "code",
   "execution_count": 3,
   "metadata": {
    "collapsed": false
   },
   "outputs": [],
   "source": [
    "sess = tf.InteractiveSession()"
   ]
  },
  {
   "cell_type": "code",
   "execution_count": 4,
   "metadata": {
    "collapsed": true
   },
   "outputs": [],
   "source": [
    "def make_kernel(a):\n",
    "    a = np.asarray(a)\n",
    "    a = a.reshape(list(a.shape) + [1, 1])\n",
    "    return tf.constant(a, dtype=1)\n",
    "\n",
    "def conv(x, k):\n",
    "    x = tf.expand_dims(tf.expand_dims(x, 0), -1)\n",
    "    y = tf.nn.depthwise_conv2d(x, k, [1, 1, 1, 1], padding='SAME')\n",
    "    return y[0, :, :, 0]\n",
    "\n",
    "def laplace(x):\n",
    "    laplace_k = make_kernel([[0.5, 1., 0.5],\n",
    "                             [1., -6., 1.],\n",
    "                             [0.5, 1., 0.5]])\n",
    "    return conv(x, laplace_k)"
   ]
  },
  {
   "cell_type": "code",
   "execution_count": 30,
   "metadata": {
    "collapsed": false
   },
   "outputs": [],
   "source": [
    "M = 400\n",
    "N = 710\n",
    "u_init = np.zeros([M, N], dtype=np.float32)\n",
    "ut_init = np.zeros([M, N], dtype=np.float32)\n",
    "\n",
    "n_drops = 150\n",
    "for n in range(n_drops):\n",
    "    a = np.random.randint(0, M, 2)\n",
    "    b = np.random.randint(0, N, 2)\n",
    "    u_init[a, b] = np.random.uniform()"
   ]
  },
  {
   "cell_type": "code",
   "execution_count": 31,
   "metadata": {
    "collapsed": false
   },
   "outputs": [
    {
     "data": {
      "image/png": "[encoded data removed]",
      "text/plain": [
       "<IPython.core.display.Image object>"
      ]
     },
     "metadata": {},
     "output_type": "display_data"
    }
   ],
   "source": [
    "DisplayArray(u_init, rng=[-0.1, 0.1])"
   ]
  },
  {
   "cell_type": "code",
   "execution_count": 41,
   "metadata": {
    "collapsed": false
   },
   "outputs": [],
   "source": [
    "# PDE parameters\n",
    "# time resolution\n",
    "eps = tf.placeholder_with_default(0.01, shape=())\n",
    "# wave damping\n",
    "damping = tf.placeholder_with_default(0.05, shape=())\n",
    "# reaction coefficient\n",
    "reaction = tf.placeholder_with_default(0.05, shape=())\n",
    "\n",
    "# Simulation state variables\n",
    "U = tf.Variable(u_init)\n",
    "Ut = tf.Variable(ut_init)\n",
    "\n",
    "# PDE FDM updates\n",
    "U_ = U + eps * Ut\n",
    "# Ut_ = Ut + eps * (laplace(U) - damping * Ut)\n",
    "Ut_ = laplace(U) + reaction * U * (1 - U / 0.5) - damping * Ut\n",
    "\n",
    "# Operation to update the state\n",
    "step = tf.group(\n",
    "    U.assign(U_),\n",
    "    Ut.assign(Ut_))"
   ]
  },
  {
   "cell_type": "code",
   "execution_count": 44,
   "metadata": {
    "collapsed": false
   },
   "outputs": [
    {
     "data": {
      "image/png": "[encoded data removed]",
      "text/plain": [
       "<IPython.core.display.Image object>"
      ]
     },
     "metadata": {},
     "output_type": "display_data"
    },
    {
     "name": "stdout",
     "output_type": "stream",
     "text": [
      "Average seconds per frame: 0.0125205390453\n"
     ]
    }
   ],
   "source": [
    "import time\n",
    "\n",
    "sess.run(tf.global_variables_initializer())\n",
    "\n",
    "T = 1000\n",
    "t0 = time.time()\n",
    "for i in range(T):\n",
    "    step.run({eps: 0.1, damping: 1, reaction: 0.05})\n",
    "    DisplayArray(U.eval(), rng=[-0.1, 0.1])\n",
    "t1 = time.time()\n",
    "print('Average seconds per frame: {}'.format((t1 - t0) / T))"
   ]
  }
 ],
 "metadata": {
  "kernelspec": {
   "display_name": "Python 2",
   "language": "python",
   "name": "python2"
  },
  "language_info": {
   "codemirror_mode": {
    "name": "ipython",
    "version": 2.0
   },
   "file_extension": ".py",
   "mimetype": "text/x-python",
   "name": "python",
   "nbconvert_exporter": "python",
   "pygments_lexer": "ipython2",
   "version": "2.7.12"
  }
 },
 "nbformat": 4,
 "nbformat_minor": 0
}